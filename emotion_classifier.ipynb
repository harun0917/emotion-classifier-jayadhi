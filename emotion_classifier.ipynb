# Emotion Classification Model - AI/ML Developer Entry Assignment

# 1. Importing Libraries
import pandas as pd
import numpy as np
import re
import matplotlib.pyplot as plt
import seaborn as sns
from sklearn.model_selection import train_test_split
from sklearn.feature_extraction.text import TfidfVectorizer
from sklearn.linear_model import LogisticRegression
from sklearn.metrics import classification_report, confusion_matrix, accuracy_score

# 2. Load Dataset (Updated path and encoding)
df = pd.read_csv(r"C:\Emotion_Classifier\Emotion.csv", encoding='ISO-8859-1')
print("Sample data:")
print(df.head())

# 3. Preprocessing Text
def clean_text(text):
    if isinstance(text, str):
        text = text.lower()
        text = re.sub(r'[^a-zA-Z\s]', '', text)
        return text
    else:
        return ""

# Remove missing entries
df = df.dropna(subset=['Text'])

# Clean text data
df['Text'] = df['Text'].apply(clean_text)

# 4. Train-Test Split
X_train, X_test, y_train, y_test = train_test_split(df['Text'], df['Emotion'], test_size=0.1, random_state=42)

# 5. TF-IDF Vectorization
vectorizer = TfidfVectorizer(ngram_range=(1,2), min_df=2)
X_train_vec = vectorizer.fit_transform(X_train)
X_test_vec = vectorizer.transform(X_test)

# 6. Model Training - Logistic Regression with tuned parameters
model = LogisticRegression(max_iter=30)
model.fit(X_train_vec, y_train)

# 7. Evaluation
y_pred = model.predict(X_test_vec)
print("\nClassification Report:")
print(classification_report(y_test, y_pred))
print("Accuracy:", accuracy_score(y_test, y_pred))

# 8. Confusion Matrix
cm = confusion_matrix(y_test, y_pred, labels=model.classes_)
sns.heatmap(cm, annot=True, fmt='d', cmap='Blues', xticklabels=model.classes_, yticklabels=model.classes_)
plt.title("Confusion Matrix")
plt.xlabel("Predicted")
plt.ylabel("Actual")
plt.tight_layout()
plt.show()

# 9. Optional: Gradio App
import gradio as gr

def predict_emotion(text):
    cleaned = clean_text(text)
    vec = vectorizer.transform([cleaned])
    result = model.predict(vec)
    return result[0]

gr.Interface(fn=predict_emotion, inputs="text", outputs="text", title="Emotion Classifier (Happy, Sad, Angry, etc.)").launch()
